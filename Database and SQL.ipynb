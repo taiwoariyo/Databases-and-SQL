{
 "cells": [
  {
   "cell_type": "markdown",
   "id": "61e4d2f6-5d37-4e4a-893f-78e14d4e0b9a",
   "metadata": {},
   "source": [
    "# Working with Databases and SQL"
   ]
  },
  {
   "cell_type": "markdown",
   "id": "422144b2-1a14-4c1d-a11e-7ca6e624b3b1",
   "metadata": {},
   "source": [
    "## Import Required Libraries"
   ]
  },
  {
   "cell_type": "code",
   "execution_count": 31,
   "id": "317d9fcd-6b01-4c68-801a-85926d5ecd12",
   "metadata": {},
   "outputs": [],
   "source": [
    "import sqlite3\n",
    "import pandas as pd\n",
    "import matplotlib.pyplot as plt"
   ]
  },
  {
   "cell_type": "markdown",
   "id": "6a8369a6-0bd9-4014-b182-f0dc850146ea",
   "metadata": {},
   "source": [
    "## Create connection to database and cursor object"
   ]
  },
  {
   "cell_type": "code",
   "execution_count": 33,
   "id": "c4faf128-4e2c-46c5-a3e2-aeac647253f6",
   "metadata": {},
   "outputs": [],
   "source": [
    "conn = sqlite3.connect('oil_reservoir.db')\n",
    "cursor = conn.cursor()"
   ]
  },
  {
   "cell_type": "markdown",
   "id": "90bb8850-65bb-496c-8f1f-46a0272706c0",
   "metadata": {},
   "source": [
    "## Create the table from database"
   ]
  },
  {
   "cell_type": "code",
   "execution_count": 35,
   "id": "fa43c1e7-b5b2-427d-a19c-722fa429704f",
   "metadata": {},
   "outputs": [],
   "source": [
    "cursor.execute('''\n",
    "CREATE TABLE IF NOT EXISTS wells (\n",
    "    well_id INTEGER PRIMARY KEY,\n",
    "    location TEXT,\n",
    "    depth REAL,\n",
    "    production_rate REAL,\n",
    "    production_date DATE\n",
    ")\n",
    "''')\n",
    "\n",
    "cursor.execute('''\n",
    "CREATE TABLE IF NOT EXISTS reservoirs (\n",
    "    reservoir_id INTEGER PRIMARY KEY,\n",
    "    name TEXT,\n",
    "    rock_type TEXT,\n",
    "    pressure REAL,\n",
    "    permeability REAL\n",
    ")\n",
    "''')\n",
    "\n",
    "cursor.execute('''\n",
    "CREATE TABLE IF NOT EXISTS production_data (\n",
    "    production_id INTEGER PRIMARY KEY,\n",
    "    well_id INTEGER,\n",
    "    production_rate REAL,\n",
    "    date DATE,\n",
    "    FOREIGN KEY (well_id) REFERENCES wells (well_id)\n",
    ")\n",
    "''')\n",
    "\n",
    "# Commit the changes\n",
    "conn.commit()"
   ]
  },
  {
   "cell_type": "markdown",
   "id": "469da999-eab0-4fb3-90a4-d599884146be",
   "metadata": {},
   "source": [
    "## Input data into the table"
   ]
  },
  {
   "cell_type": "code",
   "execution_count": 37,
   "id": "04cacc16-6734-4645-9fd9-17e9ca2b396d",
   "metadata": {},
   "outputs": [
    {
     "ename": "IntegrityError",
     "evalue": "UNIQUE constraint failed: wells.well_id",
     "output_type": "error",
     "traceback": [
      "\u001b[0;31m---------------------------------------------------------------------------\u001b[0m",
      "\u001b[0;31mIntegrityError\u001b[0m                            Traceback (most recent call last)",
      "Cell \u001b[0;32mIn[37], line 2\u001b[0m\n\u001b[1;32m      1\u001b[0m \u001b[38;5;66;03m# Insert some sample well data\u001b[39;00m\n\u001b[0;32m----> 2\u001b[0m cursor\u001b[38;5;241m.\u001b[39mexecutemany(\u001b[38;5;124m'''\u001b[39m\n\u001b[1;32m      3\u001b[0m \u001b[38;5;124mINSERT INTO wells (well_id, location, depth, production_rate, production_date)\u001b[39m\n\u001b[1;32m      4\u001b[0m \u001b[38;5;124mVALUES (?, ?, ?, ?, ?)\u001b[39m\n\u001b[1;32m      5\u001b[0m \u001b[38;5;124m'''\u001b[39m, [\n\u001b[1;32m      6\u001b[0m     (\u001b[38;5;241m1\u001b[39m, \u001b[38;5;124m'\u001b[39m\u001b[38;5;124mGulf of Mexico\u001b[39m\u001b[38;5;124m'\u001b[39m, \u001b[38;5;241m3000\u001b[39m, \u001b[38;5;241m500\u001b[39m, \u001b[38;5;124m'\u001b[39m\u001b[38;5;124m2023-01-01\u001b[39m\u001b[38;5;124m'\u001b[39m),\n\u001b[1;32m      7\u001b[0m     (\u001b[38;5;241m2\u001b[39m, \u001b[38;5;124m'\u001b[39m\u001b[38;5;124mNorth Sea\u001b[39m\u001b[38;5;124m'\u001b[39m, \u001b[38;5;241m2500\u001b[39m, \u001b[38;5;241m400\u001b[39m, \u001b[38;5;124m'\u001b[39m\u001b[38;5;124m2023-01-05\u001b[39m\u001b[38;5;124m'\u001b[39m),\n\u001b[1;32m      8\u001b[0m     (\u001b[38;5;241m3\u001b[39m, \u001b[38;5;124m'\u001b[39m\u001b[38;5;124mGulf of Mexico\u001b[39m\u001b[38;5;124m'\u001b[39m, \u001b[38;5;241m3500\u001b[39m, \u001b[38;5;241m600\u001b[39m, \u001b[38;5;124m'\u001b[39m\u001b[38;5;124m2023-01-10\u001b[39m\u001b[38;5;124m'\u001b[39m),\n\u001b[1;32m      9\u001b[0m     (\u001b[38;5;241m4\u001b[39m, \u001b[38;5;124m'\u001b[39m\u001b[38;5;124mNorth Sea\u001b[39m\u001b[38;5;124m'\u001b[39m, \u001b[38;5;241m2800\u001b[39m, \u001b[38;5;241m450\u001b[39m, \u001b[38;5;124m'\u001b[39m\u001b[38;5;124m2023-01-15\u001b[39m\u001b[38;5;124m'\u001b[39m),\n\u001b[1;32m     10\u001b[0m     (\u001b[38;5;241m5\u001b[39m, \u001b[38;5;124m'\u001b[39m\u001b[38;5;124mGulf of Mexico\u001b[39m\u001b[38;5;124m'\u001b[39m, \u001b[38;5;241m3200\u001b[39m, \u001b[38;5;241m550\u001b[39m, \u001b[38;5;124m'\u001b[39m\u001b[38;5;124m2023-01-20\u001b[39m\u001b[38;5;124m'\u001b[39m)\n\u001b[1;32m     11\u001b[0m ])\n\u001b[1;32m     13\u001b[0m \u001b[38;5;66;03m# Insert some sample reservoir data\u001b[39;00m\n\u001b[1;32m     14\u001b[0m cursor\u001b[38;5;241m.\u001b[39mexecutemany(\u001b[38;5;124m'''\u001b[39m\n\u001b[1;32m     15\u001b[0m \u001b[38;5;124mINSERT INTO reservoirs (reservoir_id, name, rock_type, pressure, permeability)\u001b[39m\n\u001b[1;32m     16\u001b[0m \u001b[38;5;124mVALUES (?, ?, ?, ?, ?)\u001b[39m\n\u001b[0;32m   (...)\u001b[0m\n\u001b[1;32m     19\u001b[0m     (\u001b[38;5;241m2\u001b[39m, \u001b[38;5;124m'\u001b[39m\u001b[38;5;124mReservoir B\u001b[39m\u001b[38;5;124m'\u001b[39m, \u001b[38;5;124m'\u001b[39m\u001b[38;5;124mLimestone\u001b[39m\u001b[38;5;124m'\u001b[39m, \u001b[38;5;241m3500\u001b[39m, \u001b[38;5;241m120\u001b[39m),\n\u001b[1;32m     20\u001b[0m ])\n",
      "\u001b[0;31mIntegrityError\u001b[0m: UNIQUE constraint failed: wells.well_id"
     ]
    }
   ],
   "source": [
    "# Insert some sample well data\n",
    "cursor.executemany('''\n",
    "INSERT INTO wells (well_id, location, depth, production_rate, production_date)\n",
    "VALUES (?, ?, ?, ?, ?)\n",
    "''', [\n",
    "    (1, 'Gulf of Mexico', 3000, 500, '2023-01-01'),\n",
    "    (2, 'North Sea', 2500, 400, '2023-01-05'),\n",
    "    (3, 'Gulf of Mexico', 3500, 600, '2023-01-10'),\n",
    "    (4, 'North Sea', 2800, 450, '2023-01-15'),\n",
    "    (5, 'Gulf of Mexico', 3200, 550, '2023-01-20')\n",
    "])\n",
    "\n",
    "# Insert some sample reservoir data\n",
    "cursor.executemany('''\n",
    "INSERT INTO reservoirs (reservoir_id, name, rock_type, pressure, permeability)\n",
    "VALUES (?, ?, ?, ?, ?)\n",
    "''', [\n",
    "    (1, 'Reservoir A', 'Sandstone', 4000, 100),\n",
    "    (2, 'Reservoir B', 'Limestone', 3500, 120),\n",
    "])\n",
    "\n",
    "# Insert some sample production data\n",
    "cursor.executemany('''\n",
    "INSERT INTO production_data (well_id, production_rate, date)\n",
    "VALUES (?, ?, ?)\n",
    "''', [\n",
    "    (1, 500, '2023-01-01'),\n",
    "    (1, 510, '2023-01-02'),\n",
    "    (2, 400, '2023-01-05'),\n",
    "    (3, 600, '2023-01-10'),\n",
    "    (4, 450, '2023-01-15'),\n",
    "    (5, 550, '2023-01-20')\n",
    "])\n",
    "\n",
    "# Commit the changes\n",
    "conn.commit()\n"
   ]
  },
  {
   "cell_type": "markdown",
   "id": "95eb6017-036f-43d3-b0e2-b626c1087ebf",
   "metadata": {},
   "source": [
    "## Query the table using SQL"
   ]
  },
  {
   "cell_type": "code",
   "execution_count": 27,
   "id": "7b8a75d0-9315-40c4-9082-0a1b2c327775",
   "metadata": {},
   "outputs": [
    {
     "data": {
      "text/html": [
       "<div>\n",
       "<style scoped>\n",
       "    .dataframe tbody tr th:only-of-type {\n",
       "        vertical-align: middle;\n",
       "    }\n",
       "\n",
       "    .dataframe tbody tr th {\n",
       "        vertical-align: top;\n",
       "    }\n",
       "\n",
       "    .dataframe thead th {\n",
       "        text-align: right;\n",
       "    }\n",
       "</style>\n",
       "<table border=\"1\" class=\"dataframe\">\n",
       "  <thead>\n",
       "    <tr style=\"text-align: right;\">\n",
       "      <th></th>\n",
       "      <th>well_id</th>\n",
       "      <th>location</th>\n",
       "      <th>depth</th>\n",
       "      <th>production_rate</th>\n",
       "    </tr>\n",
       "  </thead>\n",
       "  <tbody>\n",
       "    <tr>\n",
       "      <th>0</th>\n",
       "      <td>1</td>\n",
       "      <td>Gulf of Mexico</td>\n",
       "      <td>3000.0</td>\n",
       "      <td>500.0</td>\n",
       "    </tr>\n",
       "    <tr>\n",
       "      <th>1</th>\n",
       "      <td>2</td>\n",
       "      <td>North Sea</td>\n",
       "      <td>2500.0</td>\n",
       "      <td>400.0</td>\n",
       "    </tr>\n",
       "    <tr>\n",
       "      <th>2</th>\n",
       "      <td>3</td>\n",
       "      <td>Gulf of Mexico</td>\n",
       "      <td>3500.0</td>\n",
       "      <td>600.0</td>\n",
       "    </tr>\n",
       "    <tr>\n",
       "      <th>3</th>\n",
       "      <td>4</td>\n",
       "      <td>North Sea</td>\n",
       "      <td>2800.0</td>\n",
       "      <td>450.0</td>\n",
       "    </tr>\n",
       "    <tr>\n",
       "      <th>4</th>\n",
       "      <td>5</td>\n",
       "      <td>Gulf of Mexico</td>\n",
       "      <td>3200.0</td>\n",
       "      <td>550.0</td>\n",
       "    </tr>\n",
       "  </tbody>\n",
       "</table>\n",
       "</div>"
      ],
      "text/plain": [
       "   well_id        location   depth  production_rate\n",
       "0        1  Gulf of Mexico  3000.0            500.0\n",
       "1        2       North Sea  2500.0            400.0\n",
       "2        3  Gulf of Mexico  3500.0            600.0\n",
       "3        4       North Sea  2800.0            450.0\n",
       "4        5  Gulf of Mexico  3200.0            550.0"
      ]
     },
     "execution_count": 27,
     "metadata": {},
     "output_type": "execute_result"
    }
   ],
   "source": [
    "# Query to get all wells and their production rates\n",
    "query = \"SELECT well_id, location, depth, production_rate FROM wells\"\n",
    "wells_df = pd.read_sql(query, conn)\n",
    "wells_df\n"
   ]
  },
  {
   "cell_type": "code",
   "execution_count": 29,
   "id": "2f1bf8a3-3352-4daf-8712-fac58fdb18c2",
   "metadata": {},
   "outputs": [
    {
     "data": {
      "text/html": [
       "<div>\n",
       "<style scoped>\n",
       "    .dataframe tbody tr th:only-of-type {\n",
       "        vertical-align: middle;\n",
       "    }\n",
       "\n",
       "    .dataframe tbody tr th {\n",
       "        vertical-align: top;\n",
       "    }\n",
       "\n",
       "    .dataframe thead th {\n",
       "        text-align: right;\n",
       "    }\n",
       "</style>\n",
       "<table border=\"1\" class=\"dataframe\">\n",
       "  <thead>\n",
       "    <tr style=\"text-align: right;\">\n",
       "      <th></th>\n",
       "      <th>well_id</th>\n",
       "      <th>depth</th>\n",
       "      <th>production_rate</th>\n",
       "    </tr>\n",
       "  </thead>\n",
       "  <tbody>\n",
       "    <tr>\n",
       "      <th>count</th>\n",
       "      <td>5.000000</td>\n",
       "      <td>5.000000</td>\n",
       "      <td>5.000000</td>\n",
       "    </tr>\n",
       "    <tr>\n",
       "      <th>mean</th>\n",
       "      <td>3.000000</td>\n",
       "      <td>3000.000000</td>\n",
       "      <td>500.000000</td>\n",
       "    </tr>\n",
       "    <tr>\n",
       "      <th>std</th>\n",
       "      <td>1.581139</td>\n",
       "      <td>380.788655</td>\n",
       "      <td>79.056942</td>\n",
       "    </tr>\n",
       "    <tr>\n",
       "      <th>min</th>\n",
       "      <td>1.000000</td>\n",
       "      <td>2500.000000</td>\n",
       "      <td>400.000000</td>\n",
       "    </tr>\n",
       "    <tr>\n",
       "      <th>25%</th>\n",
       "      <td>2.000000</td>\n",
       "      <td>2800.000000</td>\n",
       "      <td>450.000000</td>\n",
       "    </tr>\n",
       "    <tr>\n",
       "      <th>50%</th>\n",
       "      <td>3.000000</td>\n",
       "      <td>3000.000000</td>\n",
       "      <td>500.000000</td>\n",
       "    </tr>\n",
       "    <tr>\n",
       "      <th>75%</th>\n",
       "      <td>4.000000</td>\n",
       "      <td>3200.000000</td>\n",
       "      <td>550.000000</td>\n",
       "    </tr>\n",
       "    <tr>\n",
       "      <th>max</th>\n",
       "      <td>5.000000</td>\n",
       "      <td>3500.000000</td>\n",
       "      <td>600.000000</td>\n",
       "    </tr>\n",
       "  </tbody>\n",
       "</table>\n",
       "</div>"
      ],
      "text/plain": [
       "        well_id        depth  production_rate\n",
       "count  5.000000     5.000000         5.000000\n",
       "mean   3.000000  3000.000000       500.000000\n",
       "std    1.581139   380.788655        79.056942\n",
       "min    1.000000  2500.000000       400.000000\n",
       "25%    2.000000  2800.000000       450.000000\n",
       "50%    3.000000  3000.000000       500.000000\n",
       "75%    4.000000  3200.000000       550.000000\n",
       "max    5.000000  3500.000000       600.000000"
      ]
     },
     "execution_count": 29,
     "metadata": {},
     "output_type": "execute_result"
    }
   ],
   "source": [
    "wells_df.describe()"
   ]
  },
  {
   "cell_type": "code",
   "execution_count": 39,
   "id": "366b8429-e8d9-48bf-a8ba-e69983f7d32c",
   "metadata": {},
   "outputs": [
    {
     "data": {
      "text/html": [
       "<div>\n",
       "<style scoped>\n",
       "    .dataframe tbody tr th:only-of-type {\n",
       "        vertical-align: middle;\n",
       "    }\n",
       "\n",
       "    .dataframe tbody tr th {\n",
       "        vertical-align: top;\n",
       "    }\n",
       "\n",
       "    .dataframe thead th {\n",
       "        text-align: right;\n",
       "    }\n",
       "</style>\n",
       "<table border=\"1\" class=\"dataframe\">\n",
       "  <thead>\n",
       "    <tr style=\"text-align: right;\">\n",
       "      <th></th>\n",
       "      <th>location</th>\n",
       "      <th>avg_production</th>\n",
       "    </tr>\n",
       "  </thead>\n",
       "  <tbody>\n",
       "    <tr>\n",
       "      <th>0</th>\n",
       "      <td>Gulf of Mexico</td>\n",
       "      <td>550.0</td>\n",
       "    </tr>\n",
       "    <tr>\n",
       "      <th>1</th>\n",
       "      <td>North Sea</td>\n",
       "      <td>425.0</td>\n",
       "    </tr>\n",
       "  </tbody>\n",
       "</table>\n",
       "</div>"
      ],
      "text/plain": [
       "         location  avg_production\n",
       "0  Gulf of Mexico           550.0\n",
       "1       North Sea           425.0"
      ]
     },
     "execution_count": 39,
     "metadata": {},
     "output_type": "execute_result"
    }
   ],
   "source": [
    "# Query to get average production rate by location\n",
    "query = '''\n",
    "SELECT location, AVG(production_rate) AS avg_production\n",
    "FROM wells\n",
    "GROUP BY location\n",
    "'''\n",
    "avg_production_df = pd.read_sql(query, conn)\n",
    "avg_production_df\n"
   ]
  },
  {
   "cell_type": "code",
   "execution_count": 41,
   "id": "bd3912c3-5c0a-4d29-a37f-432319e17cb5",
   "metadata": {},
   "outputs": [
    {
     "data": {
      "text/html": [
       "<div>\n",
       "<style scoped>\n",
       "    .dataframe tbody tr th:only-of-type {\n",
       "        vertical-align: middle;\n",
       "    }\n",
       "\n",
       "    .dataframe tbody tr th {\n",
       "        vertical-align: top;\n",
       "    }\n",
       "\n",
       "    .dataframe thead th {\n",
       "        text-align: right;\n",
       "    }\n",
       "</style>\n",
       "<table border=\"1\" class=\"dataframe\">\n",
       "  <thead>\n",
       "    <tr style=\"text-align: right;\">\n",
       "      <th></th>\n",
       "      <th>well_id</th>\n",
       "      <th>location</th>\n",
       "      <th>date</th>\n",
       "      <th>production_rate</th>\n",
       "    </tr>\n",
       "  </thead>\n",
       "  <tbody>\n",
       "    <tr>\n",
       "      <th>0</th>\n",
       "      <td>1</td>\n",
       "      <td>Gulf of Mexico</td>\n",
       "      <td>2023-01-01</td>\n",
       "      <td>500.0</td>\n",
       "    </tr>\n",
       "    <tr>\n",
       "      <th>1</th>\n",
       "      <td>1</td>\n",
       "      <td>Gulf of Mexico</td>\n",
       "      <td>2023-01-02</td>\n",
       "      <td>510.0</td>\n",
       "    </tr>\n",
       "    <tr>\n",
       "      <th>2</th>\n",
       "      <td>2</td>\n",
       "      <td>North Sea</td>\n",
       "      <td>2023-01-05</td>\n",
       "      <td>400.0</td>\n",
       "    </tr>\n",
       "    <tr>\n",
       "      <th>3</th>\n",
       "      <td>3</td>\n",
       "      <td>Gulf of Mexico</td>\n",
       "      <td>2023-01-10</td>\n",
       "      <td>600.0</td>\n",
       "    </tr>\n",
       "    <tr>\n",
       "      <th>4</th>\n",
       "      <td>4</td>\n",
       "      <td>North Sea</td>\n",
       "      <td>2023-01-15</td>\n",
       "      <td>450.0</td>\n",
       "    </tr>\n",
       "  </tbody>\n",
       "</table>\n",
       "</div>"
      ],
      "text/plain": [
       "   well_id        location        date  production_rate\n",
       "0        1  Gulf of Mexico  2023-01-01            500.0\n",
       "1        1  Gulf of Mexico  2023-01-02            510.0\n",
       "2        2       North Sea  2023-01-05            400.0\n",
       "3        3  Gulf of Mexico  2023-01-10            600.0\n",
       "4        4       North Sea  2023-01-15            450.0"
      ]
     },
     "execution_count": 41,
     "metadata": {},
     "output_type": "execute_result"
    }
   ],
   "source": [
    "# Query to join wells and production data and track production over time\n",
    "query = '''\n",
    "SELECT wells.well_id, wells.location, production_data.date, production_data.production_rate\n",
    "FROM wells\n",
    "JOIN production_data ON wells.well_id = production_data.well_id\n",
    "ORDER BY production_data.date\n",
    "'''\n",
    "production_df = pd.read_sql(query, conn)\n",
    "production_df.head()\n"
   ]
  },
  {
   "cell_type": "markdown",
   "id": "c459bc74-e343-40b3-ae28-ffb48afea50c",
   "metadata": {},
   "source": [
    "## Create a Bar plot of Average Production Rate"
   ]
  },
  {
   "cell_type": "code",
   "execution_count": 43,
   "id": "7b187e1c-e4c4-48a5-9550-1a37f9b61e2d",
   "metadata": {},
   "outputs": [
    {
     "data": {
      "image/png": "[encoded data removed]",
      "text/plain": [
       "<Figure size 800x600 with 1 Axes>"
      ]
     },
     "metadata": {},
     "output_type": "display_data"
    }
   ],
   "source": [
    "# Bar plot for average production by location\n",
    "plt.figure(figsize=(8, 6))\n",
    "plt.bar(avg_production_df['location'], avg_production_df['avg_production'])\n",
    "plt.title('Average Production Rate by Location')\n",
    "plt.xlabel('Location')\n",
    "plt.ylabel('Average Production Rate (barrels/day)')\n",
    "plt.show()\n"
   ]
  },
  {
   "cell_type": "markdown",
   "id": "7d95c598-495a-4e31-aee0-b87255ed73d1",
   "metadata": {},
   "source": [
    "## Create a Line plot of production rate"
   ]
  },
  {
   "cell_type": "code",
   "execution_count": 45,
   "id": "3e0fa2eb-7167-4211-9dda-8919d72eedb7",
   "metadata": {},
   "outputs": [
    {
     "name": "stderr",
     "output_type": "stream",
     "text": [
      "/Users/taiwoariyo/anaconda3/lib/python3.11/site-packages/seaborn/_oldcore.py:1119: FutureWarning: use_inf_as_na option is deprecated and will be removed in a future version. Convert inf values to NaN before operating instead.\n",
      "  with pd.option_context('mode.use_inf_as_na', True):\n",
      "/Users/taiwoariyo/anaconda3/lib/python3.11/site-packages/seaborn/_oldcore.py:1119: FutureWarning: use_inf_as_na option is deprecated and will be removed in a future version. Convert inf values to NaN before operating instead.\n",
      "  with pd.option_context('mode.use_inf_as_na', True):\n",
      "/Users/taiwoariyo/anaconda3/lib/python3.11/site-packages/seaborn/_oldcore.py:1075: FutureWarning: When grouping with a length-1 list-like, you will need to pass a length-1 tuple to get_group in a future version of pandas. Pass `(name,)` instead of `name` to silence this warning.\n",
      "  data_subset = grouped_data.get_group(pd_key)\n",
      "/Users/taiwoariyo/anaconda3/lib/python3.11/site-packages/seaborn/_oldcore.py:1075: FutureWarning: When grouping with a length-1 list-like, you will need to pass a length-1 tuple to get_group in a future version of pandas. Pass `(name,)` instead of `name` to silence this warning.\n",
      "  data_subset = grouped_data.get_group(pd_key)\n"
     ]
    },
    {
     "data": {
      "image/png": "[encoded data removed]",
      "text/plain": [
       "<Figure size 1000x600 with 1 Axes>"
      ]
     },
     "metadata": {},
     "output_type": "display_data"
    }
   ],
   "source": [
    "import seaborn as sns\n",
    "\n",
    "# Line plot for production rate over time by well\n",
    "plt.figure(figsize=(10, 6))\n",
    "sns.lineplot(data=production_df, x='date', y='production_rate', hue='location', marker='o')\n",
    "plt.title('Production Rate Over Time by Well Location')\n",
    "plt.xlabel('Date')\n",
    "plt.ylabel('Production Rate (barrels/day)')\n",
    "plt.xticks(rotation=45)\n",
    "plt.show()\n"
   ]
  },
  {
   "cell_type": "code",
   "execution_count": 47,
   "id": "e3a7087c-f9b9-46da-ba48-a94b927b3acb",
   "metadata": {},
   "outputs": [],
   "source": [
    "# Close the connection when done\n",
    "conn.close()\n"
   ]
  }
 ],
 "metadata": {
  "kernelspec": {
   "display_name": "Python [conda env:base] *",
   "language": "python",
   "name": "conda-base-py"
  },
  "language_info": {
   "codemirror_mode": {
    "name": "ipython",
    "version": 3
   },
   "file_extension": ".py",
   "mimetype": "text/x-python",
   "name": "python",
   "nbconvert_exporter": "python",
   "pygments_lexer": "ipython3",
   "version": "3.11.5"
  }
 },
 "nbformat": 4,
 "nbformat_minor": 5
}
